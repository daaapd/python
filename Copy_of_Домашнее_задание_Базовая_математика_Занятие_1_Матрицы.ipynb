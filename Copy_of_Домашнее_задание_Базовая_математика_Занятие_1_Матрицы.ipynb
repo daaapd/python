{
  "nbformat": 4,
  "nbformat_minor": 0,
  "metadata": {
    "colab": {
      "name": "Copy of Домашнее задание Базовая математика. Занятие 1. Матрицы",
      "provenance": [],
      "collapsed_sections": [],
      "include_colab_link": true
    },
    "kernelspec": {
      "name": "python3",
      "display_name": "Python 3"
    }
  },
  "cells": [
    {
      "cell_type": "markdown",
      "metadata": {
        "id": "view-in-github",
        "colab_type": "text"
      },
      "source": [
        "<a href=\"https://colab.research.google.com/github/daaapd/python/blob/master/Copy_of_%D0%94%D0%BE%D0%BC%D0%B0%D1%88%D0%BD%D0%B5%D0%B5_%D0%B7%D0%B0%D0%B4%D0%B0%D0%BD%D0%B8%D0%B5_%D0%91%D0%B0%D0%B7%D0%BE%D0%B2%D0%B0%D1%8F_%D0%BC%D0%B0%D1%82%D0%B5%D0%BC%D0%B0%D1%82%D0%B8%D0%BA%D0%B0_%D0%97%D0%B0%D0%BD%D1%8F%D1%82%D0%B8%D0%B5_1_%D0%9C%D0%B0%D1%82%D1%80%D0%B8%D1%86%D1%8B.ipynb\" target=\"_parent\"><img src=\"https://colab.research.google.com/assets/colab-badge.svg\" alt=\"Open In Colab\"/></a>"
      ]
    },
    {
      "cell_type": "markdown",
      "metadata": {
        "id": "cOTNHhnHNYnm",
        "colab_type": "text"
      },
      "source": [
        "#Курс \"Базовая математика\"\n",
        "#Занятие 1. Матрицы\n",
        "##Скаляры, векторы и матрицы"
      ]
    },
    {
      "cell_type": "markdown",
      "metadata": {
        "id": "THWbu4-2Op8J",
        "colab_type": "text"
      },
      "source": [
        "![alt text](https://drive.google.com/uc?id=1SdVkELm59y1FN4Sd8YDMI93W9HP10LZ-)\n"
      ]
    },
    {
      "cell_type": "code",
      "metadata": {
        "id": "SUlTP1BxTWWA",
        "colab_type": "code",
        "colab": {}
      },
      "source": [
        "import numpy as np"
      ],
      "execution_count": 0,
      "outputs": []
    },
    {
      "cell_type": "code",
      "metadata": {
        "id": "DdnEty9yNRzg",
        "colab_type": "code",
        "outputId": "cf62f577-702c-4feb-cf86-070af5b1b7fe",
        "colab": {
          "base_uri": "https://localhost:8080/",
          "height": 102
        }
      },
      "source": [
        "scalar1 = 1\n",
        "scalar2 = 5\n",
        "scalar3 = 17.345\n",
        "scalar4 = -3.2476\n",
        "\n",
        "print('Скаляры')\n",
        "print(scalar1)\n",
        "print(scalar2)\n",
        "print(scalar3)\n",
        "print(scalar4)"
      ],
      "execution_count": 0,
      "outputs": [
        {
          "output_type": "stream",
          "text": [
            "Скаляры\n",
            "1\n",
            "5\n",
            "17.345\n",
            "-3.2476\n"
          ],
          "name": "stdout"
        }
      ]
    },
    {
      "cell_type": "code",
      "metadata": {
        "id": "E_LDcms4SVq4",
        "colab_type": "code",
        "outputId": "b5b89385-b2e3-441f-ac3f-6881fb8c15d3",
        "colab": {
          "base_uri": "https://localhost:8080/",
          "height": 119
        }
      },
      "source": [
        "vector = np.array([1.3, 4.2, -2.2, 13.1])\n",
        "vector_vertical = np.array([1.3, 4.2, -2.2, 13.1]).reshape((4,1))\n",
        "\n",
        "print('Горизонтальный вектор:', vector)\n",
        "\n",
        "print('Вертикальный вектор:\\n', vector_vertical)"
      ],
      "execution_count": 0,
      "outputs": [
        {
          "output_type": "stream",
          "text": [
            "Горизонтальный вектор: [ 1.3  4.2 -2.2 13.1]\n",
            "Вертикальный вектор:\n",
            " [[ 1.3]\n",
            " [ 4.2]\n",
            " [-2.2]\n",
            " [13.1]]\n"
          ],
          "name": "stdout"
        }
      ]
    },
    {
      "cell_type": "code",
      "metadata": {
        "id": "VOfAWGp0uw5G",
        "colab_type": "code",
        "outputId": "a566ede7-b3a1-4c6b-c96d-930fc48e8dba",
        "colab": {
          "base_uri": "https://localhost:8080/",
          "height": 51
        }
      },
      "source": [
        "print(vector.shape)\n",
        "print(vector_vertical.shape)"
      ],
      "execution_count": 0,
      "outputs": [
        {
          "output_type": "stream",
          "text": [
            "(4,)\n",
            "(4, 1)\n"
          ],
          "name": "stdout"
        }
      ]
    },
    {
      "cell_type": "code",
      "metadata": {
        "id": "FqdbbFuEutDa",
        "colab_type": "code",
        "colab": {}
      },
      "source": [
        "def print_vector(v):\n",
        "  shape = v.shape\n",
        "  \n",
        "  if (len(shape) == 0):\n",
        "    print(v)\n",
        "    \n",
        "  if (len(shape) == 1):\n",
        "    s = ''\n",
        "    for i in v:\n",
        "      s += str(i) + '  '\n",
        "    print(s)\n",
        "      \n",
        "  if (len(shape) == 2):\n",
        "    for i in range(shape[0]):\n",
        "      s = ''\n",
        "      for j in range(shape[1]):\n",
        "        s += str(v[i][j]) + '  '\n",
        "      print(s)"
      ],
      "execution_count": 0,
      "outputs": []
    },
    {
      "cell_type": "code",
      "metadata": {
        "id": "hGHUbtUmvOrl",
        "colab_type": "code",
        "outputId": "5ba35bae-2d1f-4b1a-94fc-001980c84db0",
        "colab": {
          "base_uri": "https://localhost:8080/",
          "height": 34
        }
      },
      "source": [
        "print_vector(vector)"
      ],
      "execution_count": 0,
      "outputs": [
        {
          "output_type": "stream",
          "text": [
            "1.3  4.2  -2.2  13.1  \n"
          ],
          "name": "stdout"
        }
      ]
    },
    {
      "cell_type": "code",
      "metadata": {
        "id": "j3ZCjcryvj68",
        "colab_type": "code",
        "outputId": "cda61e22-2a64-4e99-dc54-a04faf402678",
        "colab": {
          "base_uri": "https://localhost:8080/",
          "height": 85
        }
      },
      "source": [
        "print_vector(vector_vertical)"
      ],
      "execution_count": 0,
      "outputs": [
        {
          "output_type": "stream",
          "text": [
            "1.3  \n",
            "4.2  \n",
            "-2.2  \n",
            "13.1  \n"
          ],
          "name": "stdout"
        }
      ]
    },
    {
      "cell_type": "markdown",
      "metadata": {
        "id": "zQ0UDAoSxMkU",
        "colab_type": "text"
      },
      "source": [
        "##Операции с векторами"
      ]
    },
    {
      "cell_type": "markdown",
      "metadata": {
        "id": "cMasl43exO91",
        "colab_type": "text"
      },
      "source": [
        "###Операции вектор - скаляр\n",
        "![alt text](https://drive.google.com/uc?id=1xg5AnOyZpFiGniGeaH3UubiLH5jLrLKb)"
      ]
    },
    {
      "cell_type": "markdown",
      "metadata": {
        "id": "-LKrN_btxSwH",
        "colab_type": "text"
      },
      "source": [
        "**Добавление и вычитание скаляра**"
      ]
    },
    {
      "cell_type": "code",
      "metadata": {
        "id": "7_RcYQtLxWkd",
        "colab_type": "code",
        "outputId": "d027462b-9a6f-43e3-ea58-cd6ce0ea4454",
        "colab": {
          "base_uri": "https://localhost:8080/",
          "height": 68
        }
      },
      "source": [
        "print_vector(vector)\n",
        "print_vector(vector + 1)\n",
        "print_vector(vector - 2)"
      ],
      "execution_count": 0,
      "outputs": [
        {
          "output_type": "stream",
          "text": [
            "1.3  4.2  -2.2  13.1  \n",
            "2.3  5.2  -1.2000000000000002  14.1  \n",
            "-0.7  2.2  -4.2  11.1  \n"
          ],
          "name": "stdout"
        }
      ]
    },
    {
      "cell_type": "markdown",
      "metadata": {
        "id": "yndac8JuxcJz",
        "colab_type": "text"
      },
      "source": [
        "**Умножение на скаляр**"
      ]
    },
    {
      "cell_type": "code",
      "metadata": {
        "id": "8tPHI0FAxeeP",
        "colab_type": "code",
        "outputId": "8d38352b-c540-4e49-ec7a-3fa183a8e11c",
        "colab": {
          "base_uri": "https://localhost:8080/",
          "height": 34
        }
      },
      "source": [
        "print_vector(vector * 2)"
      ],
      "execution_count": 0,
      "outputs": [
        {
          "output_type": "stream",
          "text": [
            "2.6  8.4  -4.4  26.2  \n"
          ],
          "name": "stdout"
        }
      ]
    },
    {
      "cell_type": "markdown",
      "metadata": {
        "id": "jebqTT-5xhKy",
        "colab_type": "text"
      },
      "source": [
        "**Деление на скаляр**"
      ]
    },
    {
      "cell_type": "code",
      "metadata": {
        "id": "0W87CrUqxlIt",
        "colab_type": "code",
        "outputId": "8584e84b-6fc1-4b15-d424-92ae03f2a165",
        "colab": {
          "base_uri": "https://localhost:8080/",
          "height": 34
        }
      },
      "source": [
        "print_vector(vector / 4)"
      ],
      "execution_count": 0,
      "outputs": [
        {
          "output_type": "stream",
          "text": [
            "0.325  1.05  -0.55  3.275  \n"
          ],
          "name": "stdout"
        }
      ]
    },
    {
      "cell_type": "markdown",
      "metadata": {
        "id": "Q74LjkAcxnLf",
        "colab_type": "text"
      },
      "source": [
        "**Возведение в степень**"
      ]
    },
    {
      "cell_type": "code",
      "metadata": {
        "id": "po8k21BuxsGb",
        "colab_type": "code",
        "outputId": "93adb44d-e23e-4df2-d1c7-68f88b4e6e7a",
        "colab": {
          "base_uri": "https://localhost:8080/",
          "height": 34
        }
      },
      "source": [
        "print_vector(vector ** 2)"
      ],
      "execution_count": 0,
      "outputs": [
        {
          "output_type": "stream",
          "text": [
            "1.6900000000000002  17.64  4.840000000000001  171.60999999999999  \n"
          ],
          "name": "stdout"
        }
      ]
    },
    {
      "cell_type": "markdown",
      "metadata": {
        "id": "gFFhhTPKx5Mq",
        "colab_type": "text"
      },
      "source": [
        "###Операции вектор-вектор\n",
        "![link text](https://drive.google.com/uc?id=1qZzN-UnUTVRDX_OG3WZPawtbDFAFI3Nf)\n"
      ]
    },
    {
      "cell_type": "markdown",
      "metadata": {
        "id": "pktx0nKex9UM",
        "colab_type": "text"
      },
      "source": [
        "**Сложение и вычитание векторов**"
      ]
    },
    {
      "cell_type": "code",
      "metadata": {
        "id": "4IM6hPrFyCM1",
        "colab_type": "code",
        "colab": {}
      },
      "source": [
        "vector1 = np.array([0, 1, 2, 3])\n",
        "vector2 = np.array([1, 2, 3, 4])"
      ],
      "execution_count": 0,
      "outputs": []
    },
    {
      "cell_type": "code",
      "metadata": {
        "id": "FUnDlNtNyKsb",
        "colab_type": "code",
        "outputId": "2c9c6a9e-1e9c-4e30-dfa6-d23cafa6f27c",
        "colab": {
          "base_uri": "https://localhost:8080/",
          "height": 34
        }
      },
      "source": [
        "print_vector(vector1 + vector2)"
      ],
      "execution_count": 0,
      "outputs": [
        {
          "output_type": "stream",
          "text": [
            "1  3  5  7  \n"
          ],
          "name": "stdout"
        }
      ]
    },
    {
      "cell_type": "code",
      "metadata": {
        "id": "4IgT2ZUIyOzJ",
        "colab_type": "code",
        "outputId": "ef30a302-e7d1-4db1-d392-72757574f777",
        "colab": {
          "base_uri": "https://localhost:8080/",
          "height": 34
        }
      },
      "source": [
        "print_vector(vector1 - vector2)"
      ],
      "execution_count": 0,
      "outputs": [
        {
          "output_type": "stream",
          "text": [
            "-1  -1  -1  -1  \n"
          ],
          "name": "stdout"
        }
      ]
    },
    {
      "cell_type": "markdown",
      "metadata": {
        "id": "s32WB3UMybiU",
        "colab_type": "text"
      },
      "source": [
        "**Умножение и деление векторов**"
      ]
    },
    {
      "cell_type": "code",
      "metadata": {
        "id": "6jmaxPkgyhXL",
        "colab_type": "code",
        "outputId": "e8184753-ccac-4c64-b949-dacb084bcf4c",
        "colab": {
          "base_uri": "https://localhost:8080/",
          "height": 34
        }
      },
      "source": [
        "print_vector(vector1 * vector2)"
      ],
      "execution_count": 0,
      "outputs": [
        {
          "output_type": "stream",
          "text": [
            "0  2  6  12  \n"
          ],
          "name": "stdout"
        }
      ]
    },
    {
      "cell_type": "code",
      "metadata": {
        "id": "LV0tV2P1ym7q",
        "colab_type": "code",
        "outputId": "c3a1510a-0102-45bd-e953-5c9368f2f4c3",
        "colab": {
          "base_uri": "https://localhost:8080/",
          "height": 34
        }
      },
      "source": [
        "print_vector(vector1 / vector2)"
      ],
      "execution_count": 0,
      "outputs": [
        {
          "output_type": "stream",
          "text": [
            "0.0  0.5  0.6666666666666666  0.75  \n"
          ],
          "name": "stdout"
        }
      ]
    },
    {
      "cell_type": "markdown",
      "metadata": {
        "id": "UrxHEPoLyeLi",
        "colab_type": "text"
      },
      "source": [
        "**Возведение в степень**"
      ]
    },
    {
      "cell_type": "code",
      "metadata": {
        "id": "RtJRdlNRyg6R",
        "colab_type": "code",
        "outputId": "8450ab0d-467a-4eaf-82c9-ea39276832ef",
        "colab": {
          "base_uri": "https://localhost:8080/",
          "height": 34
        }
      },
      "source": [
        "print_vector(vector1 ** vector2)"
      ],
      "execution_count": 0,
      "outputs": [
        {
          "output_type": "stream",
          "text": [
            "0  1  8  81  \n"
          ],
          "name": "stdout"
        }
      ]
    },
    {
      "cell_type": "markdown",
      "metadata": {
        "id": "C4gEEYGpy3VP",
        "colab_type": "text"
      },
      "source": [
        "#Матрицы"
      ]
    },
    {
      "cell_type": "markdown",
      "metadata": {
        "id": "cSPlGvGS0CVD",
        "colab_type": "text"
      },
      "source": [
        "##Пример матрицы"
      ]
    },
    {
      "cell_type": "code",
      "metadata": {
        "id": "RnMxh5Tw0Eoo",
        "colab_type": "code",
        "colab": {}
      },
      "source": [
        "matrix = np.array([[0, 1, 2], [1, 2, 3], [2, 3, 4]])"
      ],
      "execution_count": 0,
      "outputs": []
    },
    {
      "cell_type": "code",
      "metadata": {
        "id": "o4B1Mr5e0Ksz",
        "colab_type": "code",
        "outputId": "c2a2b30a-c817-46fd-fa38-eb42caad6c50",
        "colab": {
          "base_uri": "https://localhost:8080/",
          "height": 68
        }
      },
      "source": [
        "print_vector(matrix)"
      ],
      "execution_count": 0,
      "outputs": [
        {
          "output_type": "stream",
          "text": [
            "0  1  2  \n",
            "1  2  3  \n",
            "2  3  4  \n"
          ],
          "name": "stdout"
        }
      ]
    },
    {
      "cell_type": "markdown",
      "metadata": {
        "id": "uk7a53kA1Iku",
        "colab_type": "text"
      },
      "source": [
        "##Цикл по матрице\n",
        "Для примера, найдём максимум матрицы"
      ]
    },
    {
      "cell_type": "code",
      "metadata": {
        "id": "Duu2gXju1NPc",
        "colab_type": "code",
        "outputId": "b08b3d1b-b647-4917-ab6d-3af0e17a8c25",
        "colab": {
          "base_uri": "https://localhost:8080/",
          "height": 68
        }
      },
      "source": [
        "matrix = np.array([[145, 23, 191], [17, 252, 31], [99, 112, 393]])\n",
        "print_vector(matrix)"
      ],
      "execution_count": 0,
      "outputs": [
        {
          "output_type": "stream",
          "text": [
            "145  23  191  \n",
            "17  252  31  \n",
            "99  112  393  \n"
          ],
          "name": "stdout"
        }
      ]
    },
    {
      "cell_type": "code",
      "metadata": {
        "id": "2EQjYbQm1ZLH",
        "colab_type": "code",
        "outputId": "06e01e51-b50d-4e9a-f762-fc9e8b8eee5e",
        "colab": {
          "base_uri": "https://localhost:8080/",
          "height": 34
        }
      },
      "source": [
        "matrix_max = 0\n",
        "\n",
        "for i in range(matrix.shape[0]):\n",
        "  for j in range(matrix.shape[1]):\n",
        "    if (matrix[i,j] > matrix_max):\n",
        "      matrix_max = matrix[i,j]\n",
        "\n",
        "print('Максимум матрицы =', matrix_max)"
      ],
      "execution_count": 0,
      "outputs": [
        {
          "output_type": "stream",
          "text": [
            "Максимум матрицы = 393\n"
          ],
          "name": "stdout"
        }
      ]
    },
    {
      "cell_type": "markdown",
      "metadata": {
        "id": "7DZziZ483vCz",
        "colab_type": "text"
      },
      "source": [
        "##Операции с матрицами"
      ]
    },
    {
      "cell_type": "markdown",
      "metadata": {
        "id": "sko2_26F3x9i",
        "colab_type": "text"
      },
      "source": [
        "###Операции матрица - скаляр\n",
        "- добавление\n",
        "- вычитание\n",
        "- умножение\n",
        "- деление\n",
        "- возведение в степень\n",
        "![link text](https://drive.google.com/uc?id=1oLRLWVMl2lTZXutpCg_VXhRKrPOqlO_V)"
      ]
    },
    {
      "cell_type": "code",
      "metadata": {
        "id": "wpRoHOKA9bBU",
        "colab_type": "code",
        "colab": {}
      },
      "source": [
        "def print_vector(v):\n",
        "  shape = v.shape\n",
        "  \n",
        "  if (len(shape) == 0):\n",
        "    print(v)\n",
        "    \n",
        "  if (len(shape) == 1):\n",
        "    s = ''\n",
        "    for i in v:\n",
        "      s += str(i) + '  '\n",
        "    print(s)\n",
        "      \n",
        "  if (len(shape) == 2):\n",
        "    for i in range(shape[0]):\n",
        "      s = ''\n",
        "      for j in range(shape[1]):\n",
        "        s += str(v[i][j]) + '  '\n",
        "      print(s)"
      ],
      "execution_count": 0,
      "outputs": []
    },
    {
      "cell_type": "code",
      "metadata": {
        "id": "lOntmXD2362j",
        "colab_type": "code",
        "outputId": "327a8db7-4b66-47a7-8f23-79711dc3aa37",
        "colab": {
          "base_uri": "https://localhost:8080/",
          "height": 340
        }
      },
      "source": [
        "print('Добавление')\n",
        "print_vector(matrix + 1)\n",
        "\n",
        "print()\n",
        "print('Умножение')\n",
        "print_vector(matrix * 2)\n",
        "\n",
        "print()\n",
        "print('Деление')\n",
        "print_vector(matrix / 4)\n",
        "\n",
        "print()\n",
        "print('Возведение в степень')\n",
        "print_vector(matrix ** 2)"
      ],
      "execution_count": 0,
      "outputs": [
        {
          "output_type": "stream",
          "text": [
            "Добавление\n",
            "146  24  192  \n",
            "18  253  32  \n",
            "100  113  394  \n",
            "\n",
            "Умножение\n",
            "290  46  382  \n",
            "34  504  62  \n",
            "198  224  786  \n",
            "\n",
            "Деление\n",
            "36.25  5.75  47.75  \n",
            "4.25  63.0  7.75  \n",
            "24.75  28.0  98.25  \n",
            "\n",
            "Возведение в степень\n",
            "21025  529  36481  \n",
            "289  63504  961  \n",
            "9801  12544  154449  \n"
          ],
          "name": "stdout"
        }
      ]
    },
    {
      "cell_type": "markdown",
      "metadata": {
        "id": "C4hf_e234T8b",
        "colab_type": "text"
      },
      "source": [
        "###Поэлементные операции с матрицами\n",
        "![link text](https://drive.google.com/uc?id=1MzSTEzCgi7e89ZrYeTKoxtf7HWYOb3a1)"
      ]
    },
    {
      "cell_type": "code",
      "metadata": {
        "id": "_OYpOrUc4Yh8",
        "colab_type": "code",
        "outputId": "dae2bb44-43a2-4d55-d1e9-e6e71a438abc",
        "colab": {
          "base_uri": "https://localhost:8080/",
          "height": 248
        }
      },
      "source": [
        "print('Добавление')\n",
        "print_vector(matrix + matrix2)\n",
        "\n",
        "print()\n",
        "print('Умножение')\n",
        "print_vector(matrix * matrix2)\n",
        "\n",
        "print()\n",
        "print('Деление')\n",
        "print_vector(matrix / matrix2)\n",
        "\n",
        "print()\n",
        "print('Возведение в степень')\n",
        "print_vector(matrix2 ** matrix)"
      ],
      "execution_count": 0,
      "outputs": [
        {
          "output_type": "stream",
          "text": [
            "Добавление\n"
          ],
          "name": "stdout"
        },
        {
          "output_type": "error",
          "ename": "ValueError",
          "evalue": "ignored",
          "traceback": [
            "\u001b[0;31m---------------------------------------------------------------------------\u001b[0m",
            "\u001b[0;31mValueError\u001b[0m                                Traceback (most recent call last)",
            "\u001b[0;32m<ipython-input-56-b6191e5d6c02>\u001b[0m in \u001b[0;36m<module>\u001b[0;34m()\u001b[0m\n\u001b[1;32m      1\u001b[0m \u001b[0mprint\u001b[0m\u001b[0;34m(\u001b[0m\u001b[0;34m'Добавление'\u001b[0m\u001b[0;34m)\u001b[0m\u001b[0;34m\u001b[0m\u001b[0;34m\u001b[0m\u001b[0m\n\u001b[0;32m----> 2\u001b[0;31m \u001b[0mprint_vector\u001b[0m\u001b[0;34m(\u001b[0m\u001b[0mmatrix\u001b[0m \u001b[0;34m+\u001b[0m \u001b[0mmatrix2\u001b[0m\u001b[0;34m)\u001b[0m\u001b[0;34m\u001b[0m\u001b[0;34m\u001b[0m\u001b[0m\n\u001b[0m\u001b[1;32m      3\u001b[0m \u001b[0;34m\u001b[0m\u001b[0m\n\u001b[1;32m      4\u001b[0m \u001b[0mprint\u001b[0m\u001b[0;34m(\u001b[0m\u001b[0;34m)\u001b[0m\u001b[0;34m\u001b[0m\u001b[0;34m\u001b[0m\u001b[0m\n\u001b[1;32m      5\u001b[0m \u001b[0mprint\u001b[0m\u001b[0;34m(\u001b[0m\u001b[0;34m'Умножение'\u001b[0m\u001b[0;34m)\u001b[0m\u001b[0;34m\u001b[0m\u001b[0;34m\u001b[0m\u001b[0m\n",
            "\u001b[0;31mValueError\u001b[0m: operands could not be broadcast together with shapes (3,3) (3,4) "
          ]
        }
      ]
    },
    {
      "cell_type": "markdown",
      "metadata": {
        "id": "1ozH6bta426K",
        "colab_type": "text"
      },
      "source": [
        "###Умножение матриц\n",
        "Ячейка i, j новой матрицы равна сумме умножения по элементам\n",
        "- строки i первой матрицы\n",
        "- колонки j второй матрицы\n",
        "![alt text](https://drive.google.com/uc?id=1a4NtU-kJzjpXyJOcDW0eeB7vOpR9H9aC)"
      ]
    },
    {
      "cell_type": "code",
      "metadata": {
        "id": "sZfD79xP5D-P",
        "colab_type": "code",
        "colab": {}
      },
      "source": [
        "def prod_matrix(matrix1, matrix2):\n",
        "  shape1 = matrix1.shape\n",
        "  shape2 = matrix2.shape\n",
        "  \n",
        "  if (shape1[1] != shape2[0]):\n",
        "    return np.array([])\n",
        "  \n",
        "  out_matrix = np.zeros((shape1[0], shape2[1]))\n",
        "  \n",
        "  for i in range(shape1[0]):\n",
        "    for j in range(shape2[1]):\n",
        "      curr_cell = 0\n",
        "      for t in range(shape1[1]):\n",
        "        curr_cell += matrix1[i,t] * matrix2[t,j]\n",
        "        out_matrix[i,j] = curr_cell\n",
        "  \n",
        "  return out_matrix"
      ],
      "execution_count": 0,
      "outputs": []
    },
    {
      "cell_type": "code",
      "metadata": {
        "id": "GtBzLdOQ6xzV",
        "colab_type": "code",
        "colab": {}
      },
      "source": [
        "matrix1 = np.array([[0, 1, 2], [1, 2, 3], [2, 3, 4], [3, 4, 5]])\n",
        "matrix2 = np.array([[0, 1, 2, 3], [1, 2, 3, 4], [2, 3, 4, 5]])\n",
        "\n",
        "print_vector(matrix1)\n",
        "print()\n",
        "print_vector(matrix2)"
      ],
      "execution_count": 0,
      "outputs": []
    },
    {
      "cell_type": "code",
      "metadata": {
        "id": "R6JxaYQ37Fdm",
        "colab_type": "code",
        "colab": {}
      },
      "source": [
        "matrix3 = prod_matrix(matrix1, matrix2)\n",
        "print_vector(matrix3)"
      ],
      "execution_count": 0,
      "outputs": []
    },
    {
      "cell_type": "markdown",
      "metadata": {
        "id": "aGPwCBzqAePA",
        "colab_type": "text"
      },
      "source": [
        "###Умножение векторов в матрицу\n",
        "![link text](https://drive.google.com/uc?id=1TgzDXjnovEEeSTt7BjoWT6S77IP3ZDF2)"
      ]
    },
    {
      "cell_type": "code",
      "metadata": {
        "id": "XwlZQSYaAl96",
        "colab_type": "code",
        "outputId": "39c455a2-7081-453c-d92c-1c369e1cb907",
        "colab": {
          "base_uri": "https://localhost:8080/",
          "height": 306
        }
      },
      "source": [
        "vector1 = np.array([1, 2, 3, 4]).reshape((1,4))\n",
        "vector2 = np.array([5, 4, 3]).reshape((3,1))\n",
        "\n",
        "print('Первый вектор')\n",
        "print_vector(vector1)\n",
        "print()\n",
        "print('Второй вектор')\n",
        "print_vector(vector2)\n",
        "\n",
        "\n",
        "matrix4 = prod_matrix(vector2, vector1)\n",
        "\n",
        "print()\n",
        "print('Итоговая матрица')\n",
        "print_vector(matrix4)\n",
        "\n",
        "print()\n",
        "print('Првоерка размерности')\n",
        "print(vector2.shape)\n",
        "print(vector1.shape)\n",
        "print(matrix4.shape)"
      ],
      "execution_count": 0,
      "outputs": [
        {
          "output_type": "stream",
          "text": [
            "Первый вектор\n",
            "1  2  3  4  \n",
            "\n",
            "Второй вектор\n",
            "5  \n",
            "4  \n",
            "3  \n",
            "\n",
            "Итоговая матрица\n",
            "5.0  10.0  15.0  20.0  \n",
            "4.0  8.0  12.0  16.0  \n",
            "3.0  6.0  9.0  12.0  \n",
            "\n",
            "Првоерка размерности\n",
            "(3, 1)\n",
            "(1, 4)\n",
            "(3, 4)\n"
          ],
          "name": "stdout"
        }
      ]
    },
    {
      "cell_type": "markdown",
      "metadata": {
        "id": "Nez5HYj-3zqr",
        "colab_type": "text"
      },
      "source": [
        "###Умножение матрицы на вектор\n",
        "![link text](https://drive.google.com/uc?id=19-qTGxHbUe6l96XVA5fiMOwwNHb8VT8D)\n",
        "\n",
        "![link text](https://drive.google.com/uc?id=1VJNpv1hmvjqqE03tR7WQFSBnAykC3gDK)"
      ]
    },
    {
      "cell_type": "markdown",
      "metadata": {
        "id": "CdO_em6zBt6P",
        "colab_type": "text"
      },
      "source": [
        "###Транспонирование матриц\n",
        "![link text](https://drive.google.com/uc?id=1vgodAPexaLD_FRNYuwrK7Pl2Lx9uK82z)"
      ]
    },
    {
      "cell_type": "code",
      "metadata": {
        "id": "KtmmlGtaBwhE",
        "colab_type": "code",
        "colab": {}
      },
      "source": [
        "def transpose_matrix(matrix):\n",
        "  shape = matrix.shape\n",
        "  \n",
        "  out_matrix = np.zeros((shape[1], shape[0]))\n",
        "  \n",
        "  for i in range(shape[0]):\n",
        "    for j in range(shape[1]):\n",
        "      out_matrix[j,i] = matrix[i,j]\n",
        "  \n",
        "  return out_matrix"
      ],
      "execution_count": 0,
      "outputs": []
    },
    {
      "cell_type": "code",
      "metadata": {
        "id": "DhERn644GjXB",
        "colab_type": "code",
        "outputId": "9f5da5d7-e191-4bcb-d3e8-61cb99df7289",
        "colab": {
          "base_uri": "https://localhost:8080/",
          "height": 187
        }
      },
      "source": [
        "transpose_matrix = transpose_matrix(matrix1)\n",
        "\n",
        "print('Оригинальная матрица')\n",
        "print_vector(matrix1)\n",
        "\n",
        "print()\n",
        "print('Транспонированная матрица')\n",
        "print_vector(transpose_matrix)"
      ],
      "execution_count": 0,
      "outputs": [
        {
          "output_type": "stream",
          "text": [
            "Оригинальная матрица\n",
            "0  1  2  \n",
            "1  2  3  \n",
            "2  3  4  \n",
            "3  4  5  \n",
            "\n",
            "Транспонированная матрица\n",
            "0.0  1.0  2.0  3.0  \n",
            "1.0  2.0  3.0  4.0  \n",
            "2.0  3.0  4.0  5.0  \n"
          ],
          "name": "stdout"
        }
      ]
    },
    {
      "cell_type": "markdown",
      "metadata": {
        "id": "o3_K_LPHHQDg",
        "colab_type": "text"
      },
      "source": [
        "###Обратные матрицы\n",
        "Обратная матрица, это такая матрица, при умножении на которую, исходная матрица превратится в матрицу с 1 на диагонали и 0 в остальных ячейках\n",
        "![link text](https://drive.google.com/uc?id=11cxOXWSLI_LqEK2LnyW8F5fQWgSRRccN)"
      ]
    },
    {
      "cell_type": "code",
      "metadata": {
        "id": "hfEeg65QIWny",
        "colab_type": "code",
        "colab": {}
      },
      "source": [
        "matrix_4_inv = np.array([[4, 1, 3], [3, 5, 2], [2, 6, 4]])"
      ],
      "execution_count": 0,
      "outputs": []
    },
    {
      "cell_type": "code",
      "metadata": {
        "id": "rpq9zDqFHR4M",
        "colab_type": "code",
        "colab": {}
      },
      "source": [
        "inv_matrix = np.linalg.inv(matrix_4_inv)\n",
        "print_vector(inv_matrix)"
      ],
      "execution_count": 0,
      "outputs": []
    },
    {
      "cell_type": "code",
      "metadata": {
        "id": "_BwpSuexIpio",
        "colab_type": "code",
        "colab": {}
      },
      "source": [
        "result_matrix = prod_matrix(matrix_4_inv, inv_matrix)\n",
        "print_vector(result_matrix)"
      ],
      "execution_count": 0,
      "outputs": []
    },
    {
      "cell_type": "markdown",
      "metadata": {
        "id": "C4kEFD2W5lVe",
        "colab_type": "text"
      },
      "source": [
        "#Домашнее задание"
      ]
    },
    {
      "cell_type": "markdown",
      "metadata": {
        "id": "jplDGhCV53xQ",
        "colab_type": "text"
      },
      "source": [
        "**Задача 1**\n",
        "\n",
        "Напишите функцию умножения трёх матриц"
      ]
    },
    {
      "cell_type": "code",
      "metadata": {
        "id": "o9PT7GXO6o9t",
        "colab_type": "code",
        "colab": {}
      },
      "source": [
        "def prod_matrix3(matrix1, matrix2,matrix3):\n",
        "  out_matrix=[]\n",
        "  if len(matrix2)!=len(matrix1[0]):\n",
        "    print('1 и 2 матрица не могут быть перемножены')  \n",
        "  else:\n",
        "    temp_matrix=prod_matrix(matrix1, matrix2)\n",
        "    if len(matrix2)!=len(matrix1[0]):\n",
        "      print('матрица не могут быть перемножены')\n",
        "    else:\n",
        "      out_matrix=prod_matrix(temp_matrix,matrix3) \n",
        "  \n",
        "  return out_matrix"
      ],
      "execution_count": 0,
      "outputs": []
    },
    {
      "cell_type": "code",
      "metadata": {
        "id": "ZMOIvlzWEKOW",
        "colab_type": "code",
        "outputId": "88d5ea87-1cc5-47dd-a9d3-4b523099d4bc",
        "colab": {
          "base_uri": "https://localhost:8080/",
          "height": 34
        }
      },
      "source": [
        "matrix3 = np.array([[4, 1, 3], [3, 5, 2], [2, 6, 4]])\n",
        "t_matrix=prod_matrix3(matrix1, matrix2,matrix3)\n",
        "print_vector(t_matrix)\n"
      ],
      "execution_count": 0,
      "outputs": [
        {
          "output_type": "stream",
          "text": [
            "\n"
          ],
          "name": "stdout"
        }
      ]
    },
    {
      "cell_type": "markdown",
      "metadata": {
        "id": "BJJkft2r6svS",
        "colab_type": "text"
      },
      "source": [
        "**Задача 2**\n",
        "\n",
        "Напишите функцию, которая считает разницу между максимальным и минимальным элементами матрицы"
      ]
    },
    {
      "cell_type": "code",
      "metadata": {
        "id": "l_QbGpbW66WR",
        "colab_type": "code",
        "colab": {}
      },
      "source": [
        "def raz_max_min(matrix):\n",
        "  matrix_max = 0\n",
        "  matrix_min = 0\n",
        "\n",
        "  for i in range(matrix.shape[0]):\n",
        "    for j in range(matrix.shape[1]):\n",
        "      if (matrix[i,j] > matrix_max):\n",
        "        matrix_max = matrix[i,j]\n",
        "      if  (matrix[i,j] < matrix_min):\n",
        "        matrix_min=matrix[i,j]\n",
        "\n",
        "  return matrix_max-matrix_min\n",
        "\n"
      ],
      "execution_count": 0,
      "outputs": []
    },
    {
      "cell_type": "code",
      "metadata": {
        "id": "plwa9Pz13KLS",
        "colab_type": "code",
        "outputId": "273789a7-c08f-49f4-eccf-fc25b939ff4f",
        "colab": {
          "base_uri": "https://localhost:8080/",
          "height": 34
        }
      },
      "source": [
        "print(raz_max_min(matrix3))"
      ],
      "execution_count": 0,
      "outputs": [
        {
          "output_type": "stream",
          "text": [
            "6\n"
          ],
          "name": "stdout"
        }
      ]
    },
    {
      "cell_type": "markdown",
      "metadata": {
        "id": "d60LHjWW66gh",
        "colab_type": "text"
      },
      "source": [
        "**Задача 3**\n",
        "\n",
        "Напишите функцию, которая\n",
        "- умножает матрицу на саму себя, но транспонированную\n",
        "- берёт обратную матрицу от результата"
      ]
    },
    {
      "cell_type": "code",
      "metadata": {
        "id": "jB3Nh4xP7cGy",
        "colab_type": "code",
        "colab": {}
      },
      "source": [
        "def priz_trans_matrix(matrix):\n",
        "  tr_matrix=transpose_matrix(matrix)\n",
        "  inv_matrix=prod_matrix(matrix,tr_matrix)\n",
        "  return np.linalg.inv(inv_matrix)"
      ],
      "execution_count": 0,
      "outputs": []
    },
    {
      "cell_type": "code",
      "metadata": {
        "id": "m6sr8VMP4IA4",
        "colab_type": "code",
        "outputId": "8f1bca04-2447-4f2a-d040-c0b311f83e7d",
        "colab": {
          "base_uri": "https://localhost:8080/",
          "height": 68
        }
      },
      "source": [
        "print_vector(priz_trans_matrix(matrix3))"
      ],
      "execution_count": 0,
      "outputs": [
        {
          "output_type": "stream",
          "text": [
            "0.08333333333333334  -0.0625  0.010416666666666656  \n",
            "-0.06250000000000006  0.33854166666666674  -0.23697916666666669  \n",
            "0.010416666666666711  -0.2369791666666667  0.19921875000000003  \n"
          ],
          "name": "stdout"
        }
      ]
    }
  ]
}